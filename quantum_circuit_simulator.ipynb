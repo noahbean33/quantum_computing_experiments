{
  "nbformat": 4,
  "nbformat_minor": 0,
  "metadata": {
    "colab": {
      "provenance": [],
      "gpuType": "T4",
      "authorship_tag": "ABX9TyOxfWR1rV2h10NjRT/rFs/l",
      "include_colab_link": true
    },
    "kernelspec": {
      "name": "python3",
      "display_name": "Python 3"
    },
    "language_info": {
      "name": "python"
    },
    "accelerator": "GPU"
  },
  "cells": [
    {
      "cell_type": "markdown",
      "metadata": {
        "id": "view-in-github",
        "colab_type": "text"
      },
      "source": [
        "<a href=\"https://colab.research.google.com/github/noahbean33/quantum_computing_experiments/blob/main/quantum_circuit_simulator.ipynb\" target=\"_parent\"><img src=\"https://colab.research.google.com/assets/colab-badge.svg\" alt=\"Open In Colab\"/></a>"
      ]
    },
    {
      "cell_type": "code",
      "execution_count": 1,
      "metadata": {
        "colab": {
          "base_uri": "https://localhost:8080/"
        },
        "id": "XDe4GzIkZ7l_",
        "outputId": "b62c9a2b-d5d6-4cf0-a4cc-ef254459f061"
      },
      "outputs": [
        {
          "output_type": "stream",
          "name": "stdout",
          "text": [
            "Requirement already satisfied: numpy in /usr/local/lib/python3.10/dist-packages (1.25.2)\n",
            "Requirement already satisfied: scipy in /usr/local/lib/python3.10/dist-packages (1.11.4)\n",
            "Collecting quimb\n",
            "  Downloading quimb-1.8.3-py3-none-any.whl (541 kB)\n",
            "\u001b[2K     \u001b[90m━━━━━━━━━━━━━━━━━━━━━━━━━━━━━━━━━━━━━━━━\u001b[0m \u001b[32m541.6/541.6 kB\u001b[0m \u001b[31m6.5 MB/s\u001b[0m eta \u001b[36m0:00:00\u001b[0m\n",
            "\u001b[?25hCollecting cotengra\n",
            "  Downloading cotengra-0.6.2-py3-none-any.whl (177 kB)\n",
            "\u001b[2K     \u001b[90m━━━━━━━━━━━━━━━━━━━━━━━━━━━━━━━━━━━━━━━━\u001b[0m \u001b[32m177.8/177.8 kB\u001b[0m \u001b[31m9.8 MB/s\u001b[0m eta \u001b[36m0:00:00\u001b[0m\n",
            "\u001b[?25hCollecting autoray>=0.6.12 (from quimb)\n",
            "  Downloading autoray-0.6.12-py3-none-any.whl (50 kB)\n",
            "\u001b[2K     \u001b[90m━━━━━━━━━━━━━━━━━━━━━━━━━━━━━━━━━━━━━━━━\u001b[0m \u001b[32m51.0/51.0 kB\u001b[0m \u001b[31m3.3 MB/s\u001b[0m eta \u001b[36m0:00:00\u001b[0m\n",
            "\u001b[?25hCollecting cytoolz>=0.8.0 (from quimb)\n",
            "  Downloading cytoolz-0.12.3-cp310-cp310-manylinux_2_17_x86_64.manylinux2014_x86_64.whl (2.0 MB)\n",
            "\u001b[2K     \u001b[90m━━━━━━━━━━━━━━━━━━━━━━━━━━━━━━━━━━━━━━━━\u001b[0m \u001b[32m2.0/2.0 MB\u001b[0m \u001b[31m13.6 MB/s\u001b[0m eta \u001b[36m0:00:00\u001b[0m\n",
            "\u001b[?25hRequirement already satisfied: numba>=0.39 in /usr/local/lib/python3.10/dist-packages (from quimb) (0.58.1)\n",
            "Requirement already satisfied: psutil>=4.3.1 in /usr/local/lib/python3.10/dist-packages (from quimb) (5.9.5)\n",
            "Requirement already satisfied: tqdm>=4 in /usr/local/lib/python3.10/dist-packages (from quimb) (4.66.4)\n",
            "Requirement already satisfied: toolz>=0.8.0 in /usr/local/lib/python3.10/dist-packages (from cytoolz>=0.8.0->quimb) (0.12.1)\n",
            "Requirement already satisfied: llvmlite<0.42,>=0.41.0dev0 in /usr/local/lib/python3.10/dist-packages (from numba>=0.39->quimb) (0.41.1)\n",
            "Installing collected packages: cytoolz, autoray, cotengra, quimb\n",
            "Successfully installed autoray-0.6.12 cotengra-0.6.2 cytoolz-0.12.3 quimb-1.8.3\n"
          ]
        }
      ],
      "source": [
        "!pip install numpy scipy quimb cotengra\n"
      ]
    },
    {
      "cell_type": "code",
      "source": [
        "import numpy as np\n",
        "\n",
        "def initialize_qubit(state='0'):\n",
        "    if state == '0':\n",
        "        return np.array([1, 0], dtype=complex)\n",
        "    elif state == '1':\n",
        "        return np.array([0, 1], dtype=complex)\n",
        "    else:\n",
        "        raise ValueError(\"State must be '0' or '1'\")\n"
      ],
      "metadata": {
        "id": "qSTDpJhbZ-WM"
      },
      "execution_count": 2,
      "outputs": []
    },
    {
      "cell_type": "code",
      "source": [
        "def apply_gate(gate, qubit):\n",
        "    return np.dot(gate, qubit)\n",
        "\n",
        "# Define common gates\n",
        "H = 1/np.sqrt(2) * np.array([[1, 1], [1, -1]], dtype=complex)  # Hadamard gate\n",
        "X = np.array([[0, 1], [1, 0]], dtype=complex)  # Pauli-X gate\n"
      ],
      "metadata": {
        "id": "jZBUzgiEaAF8"
      },
      "execution_count": 3,
      "outputs": []
    },
    {
      "cell_type": "code",
      "source": [
        "def simulate_circuit(gates, initial_state):\n",
        "    state = initial_state\n",
        "    for gate in gates:\n",
        "        state = apply_gate(gate, state)\n",
        "    return state\n"
      ],
      "metadata": {
        "id": "6NoYgC-paCpb"
      },
      "execution_count": 4,
      "outputs": []
    },
    {
      "cell_type": "code",
      "source": [
        "def measure_qubit(state):\n",
        "    probabilities = np.abs(state)**2\n",
        "    return np.random.choice([0, 1], p=probabilities)\n"
      ],
      "metadata": {
        "id": "HA0Imhm-aFPU"
      },
      "execution_count": 5,
      "outputs": []
    },
    {
      "cell_type": "code",
      "source": [
        "import quimb as qu\n",
        "import quimb.tensor as qtn\n",
        "\n",
        "def tensor_network_circuit():\n",
        "    tn = qtn.Circuit(2)  # Create a 2-qubit circuit\n",
        "    tn.apply_gate('H', 0)  # Apply Hadamard gate to qubit 0\n",
        "    tn.apply_gate('CNOT', 0, 1)  # Apply CNOT gate between qubit 0 and 1\n",
        "    return tn\n",
        "\n",
        "def simulate_tensor_network(tn):\n",
        "    result = tn.to_dense()\n",
        "    return result\n",
        "\n",
        "# Example usage\n",
        "tn = tensor_network_circuit()\n",
        "final_state = simulate_tensor_network(tn)\n",
        "print(final_state)\n"
      ],
      "metadata": {
        "colab": {
          "base_uri": "https://localhost:8080/"
        },
        "id": "dWuGr4yFaI4b",
        "outputId": "1c358303-fa67-4184-d6d0-92fb5326f9e7"
      },
      "execution_count": 6,
      "outputs": [
        {
          "output_type": "stream",
          "name": "stderr",
          "text": [
            "/usr/local/lib/python3.10/dist-packages/cotengra/hyperoptimizers/hyper.py:33: UserWarning: Couldn't import `kahypar` - skipping from default hyper optimizer and using basic `labels` method instead.\n",
            "  warnings.warn(\n"
          ]
        },
        {
          "output_type": "stream",
          "name": "stdout",
          "text": [
            "[[ 0.707107+0.j]\n",
            " [-0.      +0.j]\n",
            " [-0.      +0.j]\n",
            " [ 0.707107+0.j]]\n"
          ]
        }
      ]
    },
    {
      "cell_type": "code",
      "source": [
        "# Initialize qubits\n",
        "qubit_0 = initialize_qubit('0')\n",
        "qubit_1 = initialize_qubit('1')\n",
        "\n",
        "# Apply gates\n",
        "state = simulate_circuit([H, X], qubit_0)\n",
        "print(state)\n",
        "\n",
        "# Measure qubit\n",
        "measurement = measure_qubit(state)\n",
        "print(f\"Measurement result: {measurement}\")\n"
      ],
      "metadata": {
        "colab": {
          "base_uri": "https://localhost:8080/"
        },
        "id": "uqW0OdRaaMZx",
        "outputId": "3eb70320-21de-4299-8c51-794112c26d33"
      },
      "execution_count": 7,
      "outputs": [
        {
          "output_type": "stream",
          "name": "stdout",
          "text": [
            "[0.70710678+0.j 0.70710678+0.j]\n",
            "Measurement result: 0\n"
          ]
        }
      ]
    },
    {
      "cell_type": "code",
      "source": [
        "import quimb as qu\n",
        "import quimb.tensor as qtn\n",
        "import numpy as np\n",
        "\n",
        "def initialize_qubit(state='0'):\n",
        "    if state == '0':\n",
        "        return np.array([1, 0], dtype=complex)\n",
        "    elif state == '1':\n",
        "        return np.array([0, 1], dtype=complex)\n",
        "    else:\n",
        "        raise ValueError(\"State must be '0' or '1'\")\n",
        "\n",
        "def apply_gate(gate, qubit):\n",
        "    return np.dot(gate, qubit)\n",
        "\n",
        "H = 1/np.sqrt(2) * np.array([[1, 1], [1, -1]], dtype=complex)  # Hadamard gate\n",
        "X = np.array([[0, 1], [1, 0]], dtype=complex)  # Pauli-X gate\n",
        "\n",
        "def simulate_circuit(gates, initial_state):\n",
        "    state = initial_state\n",
        "    for gate in gates:\n",
        "        state = apply_gate(gate, state)\n",
        "    return state\n",
        "\n",
        "def measure_qubit(state):\n",
        "    probabilities = np.abs(state)**2\n",
        "    return np.random.choice([0, 1], p=probabilities)\n",
        "\n",
        "def tensor_network_circuit():\n",
        "    tn = qtn.Circuit(2)  # Create a 2-qubit circuit\n",
        "    tn.apply_gate('H', 0)  # Apply Hadamard gate to qubit 0\n",
        "    tn.apply_gate('CNOT', 0, 1)  # Apply CNOT gate between qubit 0 and 1\n",
        "    return tn\n",
        "\n",
        "def simulate_tensor_network(tn):\n",
        "    result = tn.to_dense()\n",
        "    return result\n",
        "\n",
        "# Example usage\n",
        "tn = tensor_network_circuit()\n",
        "final_state = simulate_tensor_network(tn)\n",
        "print(final_state)\n",
        "\n",
        "# Initialize qubits\n",
        "qubit_0 = initialize_qubit('0')\n",
        "qubit_1 = initialize_qubit('1')\n",
        "\n",
        "# Apply gates\n",
        "state = simulate_circuit([H, X], qubit_0)\n",
        "print(state)\n",
        "\n",
        "# Measure qubit\n",
        "measurement = measure_qubit(state)\n",
        "print(f\"Measurement result: {measurement}\")\n"
      ],
      "metadata": {
        "colab": {
          "base_uri": "https://localhost:8080/"
        },
        "id": "oDtVi2YCap_K",
        "outputId": "39f16ffc-1680-4e28-b02f-e2fb2dbd192a"
      },
      "execution_count": 15,
      "outputs": [
        {
          "output_type": "stream",
          "name": "stdout",
          "text": [
            "[[ 0.707107+0.j]\n",
            " [-0.      +0.j]\n",
            " [-0.      +0.j]\n",
            " [ 0.707107+0.j]]\n",
            "[0.70710678+0.j 0.70710678+0.j]\n",
            "Measurement result: 0\n"
          ]
        }
      ]
    },
    {
      "cell_type": "code",
      "source": [
        "import numpy as np\n",
        "\n",
        "# Define additional gates\n",
        "Y = np.array([[0, -1j], [1j, 0]], dtype=complex)  # Pauli-Y gate\n",
        "Z = np.array([[1, 0], [0, -1]], dtype=complex)  # Pauli-Z gate\n",
        "S = np.array([[1, 0], [0, 1j]], dtype=complex)  # Phase gate (S)\n",
        "T = np.array([[1, 0], [0, np.exp(1j * np.pi / 4)]], dtype=complex)  # π/8 gate (T)\n",
        "\n",
        "# Controlled-U gate (example: Controlled-NOT gate)\n",
        "def controlled_u(control, target, u):\n",
        "    I = np.eye(2, dtype=complex)\n",
        "    control_gate = np.kron(np.array([[1, 0], [0, 0]], dtype=complex), I)\n",
        "    target_gate = np.kron(np.array([[0, 0], [0, 1]], dtype=complex), u)\n",
        "    return control_gate + target_gate\n",
        "\n",
        "CNOT = controlled_u(0, 1, X)  # Controlled-NOT gate\n",
        "\n",
        "# Toffoli gate (CCNOT)\n",
        "def toffoli():\n",
        "    I = np.eye(2, dtype=complex)\n",
        "    zero_proj = np.array([[1, 0], [0, 0]], dtype=complex)\n",
        "    one_proj = np.array([[0, 0], [0, 1]], dtype=complex)\n",
        "\n",
        "    # Identity on 3 qubits\n",
        "    I3 = np.kron(np.kron(I, I), I)\n",
        "\n",
        "    # Zero projector on control qubits (tensor product with I)\n",
        "    P0 = np.kron(np.kron(zero_proj, I), I)\n",
        "\n",
        "    # One projector on control qubits and X on target qubit\n",
        "    P1X = np.kron(np.kron(one_proj, one_proj), X)\n",
        "\n",
        "    return P0 + P1X\n",
        "\n",
        "TOFFOLI = toffoli()  # Toffoli gate\n"
      ],
      "metadata": {
        "id": "D7cmRJVIa80S"
      },
      "execution_count": 16,
      "outputs": []
    },
    {
      "cell_type": "code",
      "source": [
        "import quimb as qu\n",
        "import quimb.tensor as qtn\n",
        "\n",
        "def apply_gate(gate, qubits):\n",
        "    return np.dot(gate, qubits)\n",
        "\n",
        "def tensor_network_circuit():\n",
        "    tn = qtn.Circuit(3)  # Create a 3-qubit circuit\n",
        "    tn.apply_gate('H', 0)  # Apply Hadamard gate to qubit 0\n",
        "    tn.apply_gate('CNOT', 0, 1)  # Apply CNOT gate between qubit 0 and 1\n",
        "    tn.apply_gate('S', 2)  # Apply S gate to qubit 2\n",
        "    tn.apply_gate('TOFFOLI', 0, 1, 2)  # Apply Toffoli gate to qubits 0, 1, and 2\n",
        "    return tn\n",
        "\n",
        "def simulate_tensor_network(tn):\n",
        "    result = tn.to_dense()\n",
        "    return result\n",
        "\n",
        "# Example usage\n",
        "tn = tensor_network_circuit()\n",
        "final_state = simulate_tensor_network(tn)\n",
        "print(final_state)\n",
        "\n",
        "# Initialize qubits\n",
        "qubit_0 = initialize_qubit('0')\n",
        "qubit_1 = initialize_qubit('1')\n",
        "qubit_2 = initialize_qubit('0')\n",
        "\n",
        "# Apply gates\n",
        "state = simulate_circuit([H, X, S], qubit_0)\n",
        "print(state)\n",
        "\n",
        "# Measure qubit\n",
        "measurement = measure_qubit(state)\n",
        "print(f\"Measurement result: {measurement}\")\n"
      ],
      "metadata": {
        "colab": {
          "base_uri": "https://localhost:8080/"
        },
        "id": "Qovzgs-0bI5S",
        "outputId": "1a9b3105-5b3a-4e19-ae9f-4966ca9f9fc3"
      },
      "execution_count": 17,
      "outputs": [
        {
          "output_type": "stream",
          "name": "stdout",
          "text": [
            "[[0.707107+0.j]\n",
            " [0.      +0.j]\n",
            " [0.      +0.j]\n",
            " [0.      +0.j]\n",
            " [0.      +0.j]\n",
            " [0.      +0.j]\n",
            " [0.      +0.j]\n",
            " [0.707107+0.j]]\n",
            "[0.70710678+0.j         0.        +0.70710678j]\n",
            "Measurement result: 0\n"
          ]
        }
      ]
    },
    {
      "cell_type": "code",
      "source": [
        "# Initialize qubits in a 3-qubit system\n",
        "qubit_0 = initialize_qubit('0')\n",
        "qubit_1 = initialize_qubit('0')\n",
        "qubit_2 = initialize_qubit('0')\n",
        "\n",
        "# Combine qubits into a single state vector (tensor product)\n",
        "initial_state = np.kron(np.kron(qubit_0, qubit_1), qubit_2)\n",
        "\n",
        "# Apply gates\n",
        "state = apply_gate(H, qubit_0)\n",
        "state = np.kron(state, np.kron(qubit_1, qubit_2))  # Combine with other qubits\n",
        "state = apply_gate(CNOT, state)\n",
        "state = apply_gate(S, qubit_2)\n",
        "state = apply_gate(TOFFOLI, state)\n",
        "\n",
        "print(\"Final state vector:\", state)\n",
        "\n",
        "# Measure qubits\n",
        "measurement_results = [measure_qubit(state) for _ in range(3)]\n",
        "print(f\"Measurement results: {measurement_results}\")\n"
      ],
      "metadata": {
        "colab": {
          "base_uri": "https://localhost:8080/",
          "height": 332
        },
        "id": "9ioBsBccbKqC",
        "outputId": "435b4230-3c56-43db-88d9-0198b1a84860"
      },
      "execution_count": 18,
      "outputs": [
        {
          "output_type": "error",
          "ename": "ValueError",
          "evalue": "shapes (4,4) and (8,) not aligned: 4 (dim 1) != 8 (dim 0)",
          "traceback": [
            "\u001b[0;31m---------------------------------------------------------------------------\u001b[0m",
            "\u001b[0;31mValueError\u001b[0m                                Traceback (most recent call last)",
            "\u001b[0;32m<ipython-input-18-dd053cdcded1>\u001b[0m in \u001b[0;36m<cell line: 12>\u001b[0;34m()\u001b[0m\n\u001b[1;32m     10\u001b[0m \u001b[0mstate\u001b[0m \u001b[0;34m=\u001b[0m \u001b[0mapply_gate\u001b[0m\u001b[0;34m(\u001b[0m\u001b[0mH\u001b[0m\u001b[0;34m,\u001b[0m \u001b[0mqubit_0\u001b[0m\u001b[0;34m)\u001b[0m\u001b[0;34m\u001b[0m\u001b[0;34m\u001b[0m\u001b[0m\n\u001b[1;32m     11\u001b[0m \u001b[0mstate\u001b[0m \u001b[0;34m=\u001b[0m \u001b[0mnp\u001b[0m\u001b[0;34m.\u001b[0m\u001b[0mkron\u001b[0m\u001b[0;34m(\u001b[0m\u001b[0mstate\u001b[0m\u001b[0;34m,\u001b[0m \u001b[0mnp\u001b[0m\u001b[0;34m.\u001b[0m\u001b[0mkron\u001b[0m\u001b[0;34m(\u001b[0m\u001b[0mqubit_1\u001b[0m\u001b[0;34m,\u001b[0m \u001b[0mqubit_2\u001b[0m\u001b[0;34m)\u001b[0m\u001b[0;34m)\u001b[0m  \u001b[0;31m# Combine with other qubits\u001b[0m\u001b[0;34m\u001b[0m\u001b[0;34m\u001b[0m\u001b[0m\n\u001b[0;32m---> 12\u001b[0;31m \u001b[0mstate\u001b[0m \u001b[0;34m=\u001b[0m \u001b[0mapply_gate\u001b[0m\u001b[0;34m(\u001b[0m\u001b[0mCNOT\u001b[0m\u001b[0;34m,\u001b[0m \u001b[0mstate\u001b[0m\u001b[0;34m)\u001b[0m\u001b[0;34m\u001b[0m\u001b[0;34m\u001b[0m\u001b[0m\n\u001b[0m\u001b[1;32m     13\u001b[0m \u001b[0mstate\u001b[0m \u001b[0;34m=\u001b[0m \u001b[0mapply_gate\u001b[0m\u001b[0;34m(\u001b[0m\u001b[0mS\u001b[0m\u001b[0;34m,\u001b[0m \u001b[0mqubit_2\u001b[0m\u001b[0;34m)\u001b[0m\u001b[0;34m\u001b[0m\u001b[0;34m\u001b[0m\u001b[0m\n\u001b[1;32m     14\u001b[0m \u001b[0mstate\u001b[0m \u001b[0;34m=\u001b[0m \u001b[0mapply_gate\u001b[0m\u001b[0;34m(\u001b[0m\u001b[0mTOFFOLI\u001b[0m\u001b[0;34m,\u001b[0m \u001b[0mstate\u001b[0m\u001b[0;34m)\u001b[0m\u001b[0;34m\u001b[0m\u001b[0;34m\u001b[0m\u001b[0m\n",
            "\u001b[0;32m<ipython-input-17-a495777ac695>\u001b[0m in \u001b[0;36mapply_gate\u001b[0;34m(gate, qubits)\u001b[0m\n\u001b[1;32m      3\u001b[0m \u001b[0;34m\u001b[0m\u001b[0m\n\u001b[1;32m      4\u001b[0m \u001b[0;32mdef\u001b[0m \u001b[0mapply_gate\u001b[0m\u001b[0;34m(\u001b[0m\u001b[0mgate\u001b[0m\u001b[0;34m,\u001b[0m \u001b[0mqubits\u001b[0m\u001b[0;34m)\u001b[0m\u001b[0;34m:\u001b[0m\u001b[0;34m\u001b[0m\u001b[0;34m\u001b[0m\u001b[0m\n\u001b[0;32m----> 5\u001b[0;31m     \u001b[0;32mreturn\u001b[0m \u001b[0mnp\u001b[0m\u001b[0;34m.\u001b[0m\u001b[0mdot\u001b[0m\u001b[0;34m(\u001b[0m\u001b[0mgate\u001b[0m\u001b[0;34m,\u001b[0m \u001b[0mqubits\u001b[0m\u001b[0;34m)\u001b[0m\u001b[0;34m\u001b[0m\u001b[0;34m\u001b[0m\u001b[0m\n\u001b[0m\u001b[1;32m      6\u001b[0m \u001b[0;34m\u001b[0m\u001b[0m\n\u001b[1;32m      7\u001b[0m \u001b[0;32mdef\u001b[0m \u001b[0mtensor_network_circuit\u001b[0m\u001b[0;34m(\u001b[0m\u001b[0;34m)\u001b[0m\u001b[0;34m:\u001b[0m\u001b[0;34m\u001b[0m\u001b[0;34m\u001b[0m\u001b[0m\n",
            "\u001b[0;31mValueError\u001b[0m: shapes (4,4) and (8,) not aligned: 4 (dim 1) != 8 (dim 0)"
          ]
        }
      ]
    },
    {
      "cell_type": "code",
      "source": [
        "import numpy as np\n",
        "import quimb as qu\n",
        "import quimb.tensor as qtn\n",
        "\n",
        "# Define additional gates\n",
        "Y = np.array([[0, -1j], [1j, 0]], dtype=complex)  # Pauli-Y gate\n",
        "Z = np.array([[1, 0], [0, -1]], dtype=complex)  # Pauli-Z gate\n",
        "S = np.array([[1, 0], [0, 1j]], dtype=complex)  # Phase gate (S)\n",
        "T = np.array([[1, 0], [0, np.exp(1j * np.pi / 4)]], dtype=complex)  # π/8 gate (T)\n",
        "\n",
        "def initialize_qubit(state='0'):\n",
        "    if state == '0':\n",
        "        return np.array([1, 0], dtype=complex)\n",
        "    elif state == '1':\n",
        "        return np.array([0, 1], dtype=complex)\n",
        "    else:\n",
        "        raise ValueError(\"State must be '0' or '1'\")\n",
        "\n",
        "def apply_single_qubit_gate(gate, state, qubit_index, num_qubits):\n",
        "    \"\"\"Apply a single-qubit gate to a specific qubit in the state vector.\"\"\"\n",
        "    I = np.eye(2, dtype=complex)\n",
        "    # Construct the overall gate for the entire state vector\n",
        "    gate_full = 1\n",
        "    for i in range(num_qubits):\n",
        "        if i == qubit_index:\n",
        "            gate_full = np.kron(gate_full, gate)\n",
        "        else:\n",
        "            gate_full = np.kron(gate_full, I)\n",
        "    return np.dot(gate_full, state)\n",
        "\n",
        "def controlled_u(control, target, u, num_qubits):\n",
        "    I = np.eye(2, dtype=complex)\n",
        "    zero_proj = np.array([[1, 0], [0, 0]], dtype=complex)\n",
        "    one_proj = np.array([[0, 0], [0, 1]], dtype=complex)\n",
        "\n",
        "    I_full = 1\n",
        "    zero_proj_full = 1\n",
        "    one_proj_full = 1\n",
        "    for i in range(num_qubits):\n",
        "        if i == control:\n",
        "            zero_proj_full = np.kron(zero_proj_full, zero_proj)\n",
        "            one_proj_full = np.kron(one_proj_full, one_proj)\n",
        "        elif i == target:\n",
        "            zero_proj_full = np.kron(zero_proj_full, I)\n",
        "            one_proj_full = np.kron(one_proj_full, u)\n",
        "        else:\n",
        "            zero_proj_full = np.kron(zero_proj_full, I)\n",
        "            one_proj_full = np.kron(one_proj_full, I)\n",
        "\n",
        "    return zero_proj_full + one_proj_full\n",
        "\n",
        "# Controlled-NOT gate (for 2 qubits)\n",
        "def cnot(num_qubits):\n",
        "    return controlled_u(0, 1, np.array([[0, 1], [1, 0]], dtype=complex), num_qubits)\n",
        "\n",
        "# Toffoli gate (CCNOT)\n",
        "def toffoli(num_qubits):\n",
        "    I = np.eye(2, dtype=complex)\n",
        "    zero_proj = np.array([[1, 0], [0, 0]], dtype=complex)\n",
        "    one_proj = np.array([[0, 0], [0, 1]], dtype=complex)\n",
        "\n",
        "    I_full = 1\n",
        "    zero_proj_full = 1\n",
        "    one_proj_full = 1\n",
        "    for i in range(num_qubits):\n",
        "        if i in [0, 1]:\n",
        "            zero_proj_full = np.kron(zero_proj_full, zero_proj)\n",
        "            one_proj_full = np.kron(one_proj_full, one_proj)\n",
        "        elif i == 2:\n",
        "            zero_proj_full = np.kron(zero_proj_full, I)\n",
        "            one_proj_full = np.kron(one_proj_full, np.array([[0, 1], [1, 0]], dtype=complex))\n",
        "        else:\n",
        "            zero_proj_full = np.kron(zero_proj_full, I)\n",
        "            one_proj_full = np.kron(one_proj_full, I)\n",
        "\n",
        "    return zero_proj_full + one_proj_full\n",
        "\n",
        "def measure_qubit(state, num_qubits):\n",
        "    probabilities = np.abs(state)**2\n",
        "    result = np.random.choice(range(2**num_qubits), p=probabilities)\n",
        "    return [int(x) for x in f\"{result:0{num_qubits}b}\"]\n",
        "\n",
        "# Example usage\n",
        "num_qubits = 3\n",
        "initial_state = np.kron(np.kron(initialize_qubit('0'), initialize_qubit('0')), initialize_qubit('0'))\n",
        "\n",
        "# Apply Hadamard gate to qubit 0\n",
        "state = apply_single_qubit_gate(H, initial_state, 0, num_qubits)\n",
        "\n",
        "# Apply CNOT gate between qubit 0 (control) and qubit 1 (target)\n",
        "state = np.dot(cnot(num_qubits), state)\n",
        "\n",
        "# Apply S gate to qubit 2\n",
        "state = apply_single_qubit_gate(S, state, 2, num_qubits)\n",
        "\n",
        "# Apply Toffoli gate with qubit 0 and 1 as control and qubit 2 as target\n",
        "state = np.dot(toffoli(num_qubits), state)\n",
        "\n",
        "print(\"Final state vector:\", state)\n",
        "\n",
        "# Measure qubits\n",
        "measurement_results = measure_qubit(state, num_qubits)\n",
        "print(f\"Measurement results: {measurement_results}\")\n"
      ],
      "metadata": {
        "colab": {
          "base_uri": "https://localhost:8080/"
        },
        "id": "eaWZYOQObrd7",
        "outputId": "5636eda3-4d2d-4456-a5f0-7aaa5ecdd3c8"
      },
      "execution_count": 19,
      "outputs": [
        {
          "output_type": "stream",
          "name": "stdout",
          "text": [
            "Final state vector: [0.70710678+0.j 0.        +0.j 0.        +0.j 0.        +0.j\n",
            " 0.        +0.j 0.        +0.j 0.        +0.j 0.70710678+0.j]\n",
            "Measurement results: [1, 1, 1]\n"
          ]
        }
      ]
    }
  ]
}